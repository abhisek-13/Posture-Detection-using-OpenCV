{
 "cells": [
  {
   "cell_type": "markdown",
   "id": "9c343134",
   "metadata": {},
   "source": [
    "# Importing Dependencies"
   ]
  },
  {
   "cell_type": "code",
   "execution_count": 3,
   "id": "ed07da68",
   "metadata": {},
   "outputs": [],
   "source": [
    "import cv2\n",
    "import mediapipe as mp   #liabrary using for posture detection\n",
    "import numpy as np\n",
    "mp_drawing = mp.solutions.drawing_utils  #gives us all the drawing utilities\n",
    "mp_pose = mp.solutions.pose"
   ]
  },
  {
   "cell_type": "markdown",
   "id": "64cd86e1",
   "metadata": {},
   "source": [
    "# Making Detection"
   ]
  },
  {
   "cell_type": "code",
   "execution_count": 4,
   "id": "8d9d6f87",
   "metadata": {},
   "outputs": [],
   "source": [
    "cap = cv2.VideoCapture(0)\n",
    "\n",
    "## setup mediapipe instance\n",
    "with mp_pose.Pose(min_detection_confidence = 0.5,min_tracking_confidence = 0.5) as pose:\n",
    "    while cap.isOpened():\n",
    "        ret,frame = cap.read()\n",
    "        \n",
    "        # recolor image to RGB\n",
    "        image = cv2.cvtColor(frame,cv2.COLOR_BGR2RGB)\n",
    "        image.flags.writeable = False\n",
    "        \n",
    "        # making detection\n",
    "        results = pose.process(image)\n",
    "        \n",
    "        # recolor image to BGR\n",
    "        image.flags.writeable = True\n",
    "        image = cv2.cvtColor(image,cv2.COLOR_RGB2BGR)\n",
    "        \n",
    "        # extract landmarks\n",
    "        try:\n",
    "            landmarks = results.pose_landmarks.landmark\n",
    "            \n",
    "            #get coordinates\n",
    "            shoulder = [landmarks[mp_pose.PoseLandmark.LEFT_SHOULDER.value].x,landmarks[mp_pose.PoseLandmark.LEFT_SHOULDER.value].y]\n",
    "            elbow = [landmarks[mp_pose.PoseLandmark.LEFT_ELBOW.value].x,landmarks[mp_pose.PoseLandmark.LEFT_ELBOW.value].y]\n",
    "            wrist = [landmarks[mp_pose.PoseLandmark.LEFT_WRIST.value].x,landmarks[mp_pose.PoseLandmark.LEFT_WRIST.value].y]\n",
    "            \n",
    "            #calculating angle\n",
    "            angle = calculate_angle(shoulder,elbow,wrist)\n",
    "            \n",
    "            # visualize\n",
    "            cv2.putText(image,str(angle),tuple(np.multiply(elbow,[640,480]).astype(int),\n",
    "                                              cv2.FONT_HERSHEY_SIMPLEX,0.5,(0,255,0),2,cv2.LINE_AAA))\n",
    "        except:\n",
    "            pass\n",
    "        \n",
    "        # render detections\n",
    "        mp_drawing.draw_landmarks(image,results.pose_landmarks,mp_pose.POSE_CONNECTIONS,\n",
    "                                 mp_drawing.DrawingSpec(color = (245,150,230),thickness = 2,circle_radius = 2),\n",
    "                                  mp_drawing.DrawingSpec(color = (245,66,150),thickness = 2,circle_radius = 2)\n",
    "                                 )\n",
    "        \n",
    "        cv2.imshow('Mediapipe Feed',image)\n",
    "    \n",
    "        if cv2.waitKey(10) & 0xFF == ord('s'):\n",
    "            break\n",
    "        \n",
    "    cap.release()\n",
    "    cv2.destroyAllWindows()"
   ]
  },
  {
   "cell_type": "code",
   "execution_count": null,
   "id": "e3a22124",
   "metadata": {},
   "outputs": [],
   "source": []
  }
 ],
 "metadata": {
  "kernelspec": {
   "display_name": "Python 3 (ipykernel)",
   "language": "python",
   "name": "python3"
  },
  "language_info": {
   "codemirror_mode": {
    "name": "ipython",
    "version": 3
   },
   "file_extension": ".py",
   "mimetype": "text/x-python",
   "name": "python",
   "nbconvert_exporter": "python",
   "pygments_lexer": "ipython3",
   "version": "3.9.7"
  }
 },
 "nbformat": 4,
 "nbformat_minor": 5
}
